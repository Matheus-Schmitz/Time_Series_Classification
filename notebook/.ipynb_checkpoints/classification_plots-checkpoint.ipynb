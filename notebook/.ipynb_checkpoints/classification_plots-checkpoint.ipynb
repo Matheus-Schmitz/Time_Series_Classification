{
 "cells": [
  {
   "cell_type": "code",
   "execution_count": 9,
   "metadata": {
    "id": "te0sRIMmcMY8"
   },
   "outputs": [],
   "source": [
    "import numpy as np\n",
    "import matplotlib.pyplot as plt\n",
    "import seaborn as sns\n",
    "import pylab\n",
    "from sklearn.metrics import roc_curve, auc, confusion_matrix\n",
    "\n",
    "def plot_confusion_matrix(true_onehot, pred_probs, classes):\n",
    "    # Dictionaries to store data\n",
    "    fpr = dict()\n",
    "    tpr = dict()\n",
    "    thresholds = dict()\n",
    "    roc_auc = dict()\n",
    "    # Coerce inputs to np.array\n",
    "    true_onehot = np.asarray(true_onehot)\n",
    "    pred_probs = np.asarray(pred_probs)\n",
    "    classes = np.asarray(classes)\n",
    "    N_CLASSES = len(classes)\n",
    "    # Extract true and predicted labels\n",
    "    pred_labels = classes[np.argmax(pred_probs, axis=1)]\n",
    "    true_labels = classes[np.argmax(true_onehot, axis=1)]\n",
    "    # Get Confusion Matrix and plot\n",
    "    conf_mat = confusion_matrix(true_labels, pred_labels, labels=classes)\n",
    "    plt.axis('square')\n",
    "    g = sns.heatmap(conf_mat, annot=True, cmap='Blues', xticklabels=classes, yticklabels=classes)\n",
    "    plt.title('Confusion Matrix', pad = 20, fontweight='bold')\n",
    "    plt.ylabel('True Emotion', fontsize = 12, labelpad = 10)\n",
    "    plt.xlabel('Predicted Emotion', fontsize = 12, labelpad = 10)\n",
    "\n",
    "def plot_roc_multiclass(true_onehot, pred_probs, classes):\n",
    "    # Dictionaries to store data\n",
    "    fpr = dict()\n",
    "    tpr = dict()\n",
    "    thresholds = dict()\n",
    "    roc_auc = dict()\n",
    "    # Coerce inputs to np.array\n",
    "    true_onehot = np.asarray(true_onehot)\n",
    "    pred_probs = np.asarray(pred_probs)\n",
    "    classes = np.asarray(classes)\n",
    "    N_CLASSES = len(classes)\n",
    "    # For each class, get the fpr, tpr, thresholds and auc\n",
    "    for i in range(N_CLASSES):\n",
    "        fpr[i], tpr[i], thresholds[i] = roc_curve(true_onehot[:, i], pred_probs[:, i])\n",
    "        roc_auc[i] = auc(fpr[i], tpr[i])\n",
    "    # Generate multilabel colors with pylab\n",
    "    class_colors = []\n",
    "    cm = pylab.get_cmap('nipy_spectral')\n",
    "    for i in range(len(classes)):\n",
    "        color = cm(1.*i/N_CLASSES)\n",
    "        class_colors.append(color)\n",
    "    # Plot the class-stratified ROCs\n",
    "    plt.axis('square')\n",
    "    for i, color in zip(range(N_CLASSES), class_colors):\n",
    "        plt.plot(fpr[i], tpr[i], color=color, lw=3, label=f'{classes[i]} (area = {roc_auc[i]:.2f})', alpha=0.7)\n",
    "    plt.plot([0, 1], [0, 1], 'k--', lw=2, alpha=0.3)\n",
    "    plt.xlim([-0.01, 1.01])\n",
    "    plt.ylim([-0.01, 1.01])\n",
    "    plt.xlabel('False Positive Rate', fontsize = 12, labelpad = 10)\n",
    "    plt.ylabel('True Positive Rate', fontsize = 12, labelpad = 10)\n",
    "    plt.title('Multi Class ROC', pad = 20, fontweight='bold')\n",
    "    legend = plt.legend()\n",
    "    legend._legend_box.align = \"right\"\n",
    "    plt.legend(loc=\"lower right\")\n",
    "\n",
    "def plot_roc_binary(true_onehot, pred_probs, classes):\n",
    "    # Dictionaries to store data\n",
    "    fpr = dict()\n",
    "    tpr = dict()\n",
    "    thresholds = dict()\n",
    "    roc_auc = dict()\n",
    "    # Coerce inputs to np.array\n",
    "    true_onehot = np.asarray(true_onehot)\n",
    "    pred_probs = np.asarray(pred_probs)\n",
    "    classes = np.asarray(classes)\n",
    "    N_CLASSES = len(classes)\n",
    "    # Compute global (micro-average) ROC curve and ROC area\n",
    "    fpr[\"GLOBAL\"], tpr[\"GLOBAL\"], thresholds[\"GLOBAL\"] = roc_curve(true_onehot.ravel(), pred_probs.ravel())\n",
    "    roc_auc[\"GLOBAL\"] = auc(fpr[\"GLOBAL\"], tpr[\"GLOBAL\"])\n",
    "    # Plot the model overall ROC\n",
    "    plt.axis('square')\n",
    "    plt.plot(fpr[\"GLOBAL\"], tpr[\"GLOBAL\"], label=f'MODEL OVERALL (area = {roc_auc[\"GLOBAL\"]:.2f})', color='deeppink', lw=5)\n",
    "    plt.plot([0, 1], [0, 1], 'k--', lw=2, alpha=0.3)\n",
    "    plt.xlim([-0.01, 1.01])\n",
    "    plt.ylim([-0.01, 1.01])\n",
    "    plt.xlabel('False Positive Rate', fontsize = 12, labelpad = 10)\n",
    "    plt.ylabel('True Positive Rate', fontsize = 12, labelpad = 10)\n",
    "    plt.title('Model Overall ROC', pad = 20, fontweight='bold')\n",
    "    legend = plt.legend()\n",
    "    legend._legend_box.align = \"right\"\n",
    "    plt.legend(loc=\"lower right\")\n",
    "\n",
    "def multiclass_plots(true_onehot, pred_probs, classes):\n",
    "    fig, axs = plt.subplots(nrows=1, ncols=3, figsize=(18,5))\n",
    "    fig.sca(axs[0])\n",
    "    plot_confusion_matrix(true_onehot, pred_probs, classes)\n",
    "    fig.sca(axs[1])\n",
    "    plot_roc_binary(true_onehot, pred_probs, classes)\n",
    "    fig.sca(axs[2])\n",
    "    plot_roc_multiclass(true_onehot, pred_probs, classes)\n",
    "    fig.tight_layout(h_pad=20)"
   ]
  },
  {
   "cell_type": "code",
   "execution_count": 10,
   "metadata": {
    "id": "cv2c7OfzEg9f"
   },
   "outputs": [],
   "source": [
    "classes = ['alpha', 'beta', 'gama']"
   ]
  },
  {
   "cell_type": "code",
   "execution_count": 11,
   "metadata": {
    "id": "_1eCHhyfEkFv"
   },
   "outputs": [],
   "source": [
    "true_onehot = [[1, 0, 0], \n",
    "               [1, 0, 0],\n",
    "               [1, 0, 0],\n",
    "               [0, 1, 0],\n",
    "               [0, 1, 0],\n",
    "               [0, 1, 0],\n",
    "               [0, 0, 1],\n",
    "               [0, 0, 1],\n",
    "               [0, 0, 1]]"
   ]
  },
  {
   "cell_type": "code",
   "execution_count": 21,
   "metadata": {
    "colab": {
     "base_uri": "https://localhost:8080/",
     "height": 35
    },
    "id": "aXjzlxkkFDv9",
    "outputId": "753e9137-d1e8-4368-ea58-1b60ca2315e6"
   },
   "outputs": [
    {
     "data": {
      "text/plain": [
       "array([3.33, 3.11, 2.56])"
      ]
     },
     "execution_count": 21,
     "metadata": {},
     "output_type": "execute_result"
    }
   ],
   "source": [
    "pred_probs = [[0.90, 0.07, 0.03], \n",
    "              [1.00, 0.00, 0.00],\n",
    "              [0.55, 0.05, 0.40],\n",
    "              [0.03, 0.85, 0.12],\n",
    "              [0.33, 0.60, 0.07],\n",
    "              [0.05, 0.90, 0.05],\n",
    "              [0.01, 0.00, 0.99],\n",
    "              [0.15, 0.15, 0.70],\n",
    "              [0.31, 0.49, 0.20]]\n",
    "np.sum(pred_probs, axis=1)\n",
    "np.sum(pred_probs, axis=0)"
   ]
  },
  {
   "cell_type": "code",
   "execution_count": 13,
   "metadata": {
    "colab": {
     "base_uri": "https://localhost:8080/",
     "height": 435
    },
    "id": "Pq21YznsiGgx",
    "outputId": "650a656b-b9a7-491b-944e-54f23faff5bd"
   },
   "outputs": [
    {
     "data": {
      "image/png": "[encoded data removed]",
      "text/plain": [
       "<Figure size 1296x360 with 4 Axes>"
      ]
     },
     "metadata": {
      "needs_background": "light"
     },
     "output_type": "display_data"
    }
   ],
   "source": [
    "multiclass_plots(true_onehot, pred_probs, classes)\n",
    "plt.suptitle('Title', y=1.1, fontsize=20, fontweight='bold')\n",
    "plt.show()"
   ]
  },
  {
   "cell_type": "code",
   "execution_count": 14,
   "metadata": {
    "id": "0WgbxoH2AE9S"
   },
   "outputs": [],
   "source": [
    "from sklearn.preprocessing import OneHotEncoder\n",
    "OHE = OneHotEncoder(sparse=False)"
   ]
  },
  {
   "cell_type": "code",
   "execution_count": 16,
   "metadata": {
    "colab": {
     "base_uri": "https://localhost:8080/",
     "height": 35
    },
    "id": "T5q57Mj1AzLe",
    "outputId": "c7397c61-3da6-4e77-cc3e-b2ad005b9f5a"
   },
   "outputs": [
    {
     "data": {
      "text/plain": [
       "array([[0., 1.],\n",
       "       [0., 1.],\n",
       "       [0., 1.],\n",
       "       [1., 0.],\n",
       "       [1., 0.]])"
      ]
     },
     "execution_count": 16,
     "metadata": {},
     "output_type": "execute_result"
    }
   ],
   "source": [
    "classes = [0, 1]\n",
    "true_binary = np.array([1,1,1,0,0])\n",
    "true_onehot = OHE.fit_transform(true_binary.reshape(-1,1))\n",
    "true_onehot.shape\n",
    "true_onehot"
   ]
  },
  {
   "cell_type": "code",
   "execution_count": 20,
   "metadata": {
    "colab": {
     "base_uri": "https://localhost:8080/",
     "height": 35
    },
    "id": "2jtSBwhXA2LY",
    "outputId": "c1ab6ba6-9438-4f99-9b4f-db08355442cd"
   },
   "outputs": [
    {
     "data": {
      "text/plain": [
       "array([list([0.55, 0.45]), list([0.3, 0.7]), list([0.9, 0, 10]),\n",
       "       list([0.8, 0.2]), list([0.35, 0.65])], dtype=object)"
      ]
     },
     "execution_count": 20,
     "metadata": {},
     "output_type": "execute_result"
    }
   ],
   "source": [
    "pred_probs = [[0.55, 0.45],\n",
    "              [0.30, 0.70],\n",
    "              [0.90, 0,10],\n",
    "              [0.80, 0.20],\n",
    "              [0.35, 0.65]]\n",
    "np.sum(pred_probs, axis=0)"
   ]
  },
  {
   "cell_type": "code",
   "execution_count": 126,
   "metadata": {
    "colab": {
     "base_uri": "https://localhost:8080/",
     "height": 358
    },
    "id": "1yOtGpmSBEbX",
    "outputId": "82e0f349-49f7-48c6-83ab-4178af0823ec"
   },
   "outputs": [
    {
     "ename": "AxisError",
     "evalue": "ignored",
     "output_type": "error",
     "traceback": [
      "\u001b[0;31m---------------------------------------------------------------------------\u001b[0m",
      "\u001b[0;31mAxisError\u001b[0m                                 Traceback (most recent call last)",
      "\u001b[0;32m<ipython-input-126-b36f6c98e584>\u001b[0m in \u001b[0;36m<module>\u001b[0;34m()\u001b[0m\n\u001b[0;32m----> 1\u001b[0;31m \u001b[0mplot_confusion_matrix\u001b[0m\u001b[0;34m(\u001b[0m\u001b[0mtrue_onehot\u001b[0m\u001b[0;34m=\u001b[0m\u001b[0mtrue_onehot\u001b[0m\u001b[0;34m,\u001b[0m \u001b[0mpred_probs\u001b[0m\u001b[0;34m=\u001b[0m\u001b[0mpred_probs\u001b[0m\u001b[0;34m,\u001b[0m \u001b[0mclasses\u001b[0m\u001b[0;34m=\u001b[0m\u001b[0;34m[\u001b[0m\u001b[0;36m0\u001b[0m\u001b[0;34m,\u001b[0m\u001b[0;36m1\u001b[0m\u001b[0;34m]\u001b[0m\u001b[0;34m)\u001b[0m\u001b[0;34m\u001b[0m\u001b[0;34m\u001b[0m\u001b[0m\n\u001b[0m",
      "\u001b[0;32m<ipython-input-108-874c3e68d1ec>\u001b[0m in \u001b[0;36mplot_confusion_matrix\u001b[0;34m(true_onehot, pred_probs, classes)\u001b[0m\n\u001b[1;32m     17\u001b[0m     \u001b[0mN_CLASSES\u001b[0m \u001b[0;34m=\u001b[0m \u001b[0mlen\u001b[0m\u001b[0;34m(\u001b[0m\u001b[0mclasses\u001b[0m\u001b[0;34m)\u001b[0m\u001b[0;34m\u001b[0m\u001b[0;34m\u001b[0m\u001b[0m\n\u001b[1;32m     18\u001b[0m     \u001b[0;31m# Extract true and predicted labels\u001b[0m\u001b[0;34m\u001b[0m\u001b[0;34m\u001b[0m\u001b[0;34m\u001b[0m\u001b[0m\n\u001b[0;32m---> 19\u001b[0;31m     \u001b[0mpred_labels\u001b[0m \u001b[0;34m=\u001b[0m \u001b[0mclasses\u001b[0m\u001b[0;34m[\u001b[0m\u001b[0mnp\u001b[0m\u001b[0;34m.\u001b[0m\u001b[0margmax\u001b[0m\u001b[0;34m(\u001b[0m\u001b[0mpred_probs\u001b[0m\u001b[0;34m,\u001b[0m \u001b[0maxis\u001b[0m\u001b[0;34m=\u001b[0m\u001b[0;36m1\u001b[0m\u001b[0;34m)\u001b[0m\u001b[0;34m]\u001b[0m\u001b[0;34m\u001b[0m\u001b[0;34m\u001b[0m\u001b[0m\n\u001b[0m\u001b[1;32m     20\u001b[0m     \u001b[0mtrue_labels\u001b[0m \u001b[0;34m=\u001b[0m \u001b[0mclasses\u001b[0m\u001b[0;34m[\u001b[0m\u001b[0mnp\u001b[0m\u001b[0;34m.\u001b[0m\u001b[0margmax\u001b[0m\u001b[0;34m(\u001b[0m\u001b[0mtrue_onehot\u001b[0m\u001b[0;34m,\u001b[0m \u001b[0maxis\u001b[0m\u001b[0;34m=\u001b[0m\u001b[0;36m1\u001b[0m\u001b[0;34m)\u001b[0m\u001b[0;34m]\u001b[0m\u001b[0;34m\u001b[0m\u001b[0;34m\u001b[0m\u001b[0m\n\u001b[1;32m     21\u001b[0m     \u001b[0;31m# Get Confusion Matrix and plot\u001b[0m\u001b[0;34m\u001b[0m\u001b[0;34m\u001b[0m\u001b[0;34m\u001b[0m\u001b[0m\n",
      "\u001b[0;32m<__array_function__ internals>\u001b[0m in \u001b[0;36margmax\u001b[0;34m(*args, **kwargs)\u001b[0m\n",
      "\u001b[0;32m/usr/local/lib/python3.6/dist-packages/numpy/core/fromnumeric.py\u001b[0m in \u001b[0;36margmax\u001b[0;34m(a, axis, out)\u001b[0m\n\u001b[1;32m   1184\u001b[0m \u001b[0;34m\u001b[0m\u001b[0m\n\u001b[1;32m   1185\u001b[0m     \"\"\"\n\u001b[0;32m-> 1186\u001b[0;31m     \u001b[0;32mreturn\u001b[0m \u001b[0m_wrapfunc\u001b[0m\u001b[0;34m(\u001b[0m\u001b[0ma\u001b[0m\u001b[0;34m,\u001b[0m \u001b[0;34m'argmax'\u001b[0m\u001b[0;34m,\u001b[0m \u001b[0maxis\u001b[0m\u001b[0;34m=\u001b[0m\u001b[0maxis\u001b[0m\u001b[0;34m,\u001b[0m \u001b[0mout\u001b[0m\u001b[0;34m=\u001b[0m\u001b[0mout\u001b[0m\u001b[0;34m)\u001b[0m\u001b[0;34m\u001b[0m\u001b[0;34m\u001b[0m\u001b[0m\n\u001b[0m\u001b[1;32m   1187\u001b[0m \u001b[0;34m\u001b[0m\u001b[0m\n\u001b[1;32m   1188\u001b[0m \u001b[0;34m\u001b[0m\u001b[0m\n",
      "\u001b[0;32m/usr/local/lib/python3.6/dist-packages/numpy/core/fromnumeric.py\u001b[0m in \u001b[0;36m_wrapfunc\u001b[0;34m(obj, method, *args, **kwds)\u001b[0m\n\u001b[1;32m     59\u001b[0m \u001b[0;34m\u001b[0m\u001b[0m\n\u001b[1;32m     60\u001b[0m     \u001b[0;32mtry\u001b[0m\u001b[0;34m:\u001b[0m\u001b[0;34m\u001b[0m\u001b[0;34m\u001b[0m\u001b[0m\n\u001b[0;32m---> 61\u001b[0;31m         \u001b[0;32mreturn\u001b[0m \u001b[0mbound\u001b[0m\u001b[0;34m(\u001b[0m\u001b[0;34m*\u001b[0m\u001b[0margs\u001b[0m\u001b[0;34m,\u001b[0m \u001b[0;34m**\u001b[0m\u001b[0mkwds\u001b[0m\u001b[0;34m)\u001b[0m\u001b[0;34m\u001b[0m\u001b[0;34m\u001b[0m\u001b[0m\n\u001b[0m\u001b[1;32m     62\u001b[0m     \u001b[0;32mexcept\u001b[0m \u001b[0mTypeError\u001b[0m\u001b[0;34m:\u001b[0m\u001b[0;34m\u001b[0m\u001b[0;34m\u001b[0m\u001b[0m\n\u001b[1;32m     63\u001b[0m         \u001b[0;31m# A TypeError occurs if the object does have such a method in its\u001b[0m\u001b[0;34m\u001b[0m\u001b[0;34m\u001b[0m\u001b[0;34m\u001b[0m\u001b[0m\n",
      "\u001b[0;31mAxisError\u001b[0m: axis 1 is out of bounds for array of dimension 1"
     ]
    }
   ],
   "source": [
    "plot_confusion_matrix(true_onehot=true_onehot, pred_probs=pred_probs, classes=[0,1])"
   ]
  },
  {
   "cell_type": "code",
   "execution_count": null,
   "metadata": {
    "id": "-vHJhTBXBf2m"
   },
   "outputs": [],
   "source": []
  }
 ],
 "metadata": {
  "colab": {
   "name": "classification_plots.ipynb",
   "provenance": []
  },
  "kernelspec": {
   "display_name": "Python 3",
   "language": "python",
   "name": "python3"
  },
  "language_info": {
   "codemirror_mode": {
    "name": "ipython",
    "version": 3
   },
   "file_extension": ".py",
   "mimetype": "text/x-python",
   "name": "python",
   "nbconvert_exporter": "python",
   "pygments_lexer": "ipython3",
   "version": "3.7.7"
  }
 },
 "nbformat": 4,
 "nbformat_minor": 1
}
